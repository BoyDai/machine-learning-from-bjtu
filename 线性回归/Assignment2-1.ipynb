{
 "cells": [
  {
   "cell_type": "markdown",
   "metadata": {},
   "source": [
    "# 多元线性回归/对数线性回归（二选一）"
   ]
  },
  {
   "cell_type": "markdown",
   "metadata": {},
   "source": [
    "## 一、多元线性回归\n",
    "这部分的内容是要求大家完成多元线性回归，我们会先带着大家使用sklearn做一元线性回归的十折交叉验证，多元线性回归大家可以仿照着完成"
   ]
  },
  {
   "cell_type": "markdown",
   "metadata": {},
   "source": [
    "### 1. 读取数据"
   ]
  },
  {
   "cell_type": "code",
   "execution_count": 1,
   "metadata": {},
   "outputs": [],
   "source": [
    "import numpy as np"
   ]
  },
  {
   "cell_type": "code",
   "execution_count": 2,
   "metadata": {},
   "outputs": [],
   "source": [
    "import pandas as pd\n",
    "\n",
    "# 读取数据\n",
    "data = pd.read_csv('data/kaggle_house_price_prediction/kaggle_hourse_price_train.csv')\n",
    "\n",
    "# 丢弃有缺失值的特征（列）\n",
    "data.dropna(axis = 1, inplace = True)\n",
    "\n",
    "# 只保留整数的特征\n",
    "data = data[[col for col in data.dtypes.index if data.dtypes[col] == 'int64']]"
   ]
  },
  {
   "cell_type": "code",
   "execution_count": 3,
   "metadata": {},
   "outputs": [
    {
     "name": "stdout",
     "output_type": "stream",
     "text": [
      "<class 'pandas.core.frame.DataFrame'>\n",
      "RangeIndex: 1460 entries, 0 to 1459\n",
      "Data columns (total 35 columns):\n",
      "Id               1460 non-null int64\n",
      "MSSubClass       1460 non-null int64\n",
      "LotArea          1460 non-null int64\n",
      "OverallQual      1460 non-null int64\n",
      "OverallCond      1460 non-null int64\n",
      "YearBuilt        1460 non-null int64\n",
      "YearRemodAdd     1460 non-null int64\n",
      "BsmtFinSF1       1460 non-null int64\n",
      "BsmtFinSF2       1460 non-null int64\n",
      "BsmtUnfSF        1460 non-null int64\n",
      "TotalBsmtSF      1460 non-null int64\n",
      "1stFlrSF         1460 non-null int64\n",
      "2ndFlrSF         1460 non-null int64\n",
      "LowQualFinSF     1460 non-null int64\n",
      "GrLivArea        1460 non-null int64\n",
      "BsmtFullBath     1460 non-null int64\n",
      "BsmtHalfBath     1460 non-null int64\n",
      "FullBath         1460 non-null int64\n",
      "HalfBath         1460 non-null int64\n",
      "BedroomAbvGr     1460 non-null int64\n",
      "KitchenAbvGr     1460 non-null int64\n",
      "TotRmsAbvGrd     1460 non-null int64\n",
      "Fireplaces       1460 non-null int64\n",
      "GarageCars       1460 non-null int64\n",
      "GarageArea       1460 non-null int64\n",
      "WoodDeckSF       1460 non-null int64\n",
      "OpenPorchSF      1460 non-null int64\n",
      "EnclosedPorch    1460 non-null int64\n",
      "3SsnPorch        1460 non-null int64\n",
      "ScreenPorch      1460 non-null int64\n",
      "PoolArea         1460 non-null int64\n",
      "MiscVal          1460 non-null int64\n",
      "MoSold           1460 non-null int64\n",
      "YrSold           1460 non-null int64\n",
      "SalePrice        1460 non-null int64\n",
      "dtypes: int64(35)\n",
      "memory usage: 399.3 KB\n"
     ]
    }
   ],
   "source": [
    "data.info()"
   ]
  },
  {
   "cell_type": "markdown",
   "metadata": {},
   "source": [
    "### 2. 引入模型"
   ]
  },
  {
   "cell_type": "code",
   "execution_count": 5,
   "metadata": {},
   "outputs": [],
   "source": [
    "from sklearn.linear_model import LinearRegression\n",
    "from sklearn.metrics import mean_absolute_error\n",
    "from sklearn.metrics import mean_squared_error\n",
    "from sklearn.model_selection import cross_val_predict"
   ]
  },
  {
   "cell_type": "markdown",
   "metadata": {},
   "source": [
    "### 3. 使用sklearn完成一元线性回归的十折交叉验证验证"
   ]
  },
  {
   "cell_type": "markdown",
   "metadata": {},
   "source": [
    "#### 创建模型"
   ]
  },
  {
   "cell_type": "code",
   "execution_count": 6,
   "metadata": {},
   "outputs": [],
   "source": [
    "model = LinearRegression()"
   ]
  },
  {
   "cell_type": "markdown",
   "metadata": {},
   "source": [
    "#### 选取数据"
   ]
  },
  {
   "cell_type": "code",
   "execution_count": 7,
   "metadata": {},
   "outputs": [],
   "source": [
    "features = ['LotArea']\n",
    "x = data[features]\n",
    "y = data['SalePrice']"
   ]
  },
  {
   "cell_type": "markdown",
   "metadata": {},
   "source": [
    "#### 做十折交叉验证的预测"
   ]
  },
  {
   "cell_type": "code",
   "execution_count": 8,
   "metadata": {},
   "outputs": [],
   "source": [
    "prediction = cross_val_predict(model, x, y, cv = 10)"
   ]
  },
  {
   "cell_type": "markdown",
   "metadata": {},
   "source": [
    "这十折交叉验证是按顺序做的，会先将前10%的数据作为测试集，然后会往后顺延到10%到20%，最后将这十份的预测值按顺序拼接后返回"
   ]
  },
  {
   "cell_type": "code",
   "execution_count": 9,
   "metadata": {},
   "outputs": [
    {
     "data": {
      "text/plain": [
       "(1460,)"
      ]
     },
     "execution_count": 9,
     "metadata": {},
     "output_type": "execute_result"
    }
   ],
   "source": [
    "prediction.shape"
   ]
  },
  {
   "cell_type": "markdown",
   "metadata": {},
   "source": [
    "### 4. 计算评价指标"
   ]
  },
  {
   "cell_type": "markdown",
   "metadata": {},
   "source": [
    "#### MAE"
   ]
  },
  {
   "cell_type": "code",
   "execution_count": 10,
   "metadata": {},
   "outputs": [
    {
     "data": {
      "text/plain": [
       "55394.44195244894"
      ]
     },
     "execution_count": 10,
     "metadata": {},
     "output_type": "execute_result"
    }
   ],
   "source": [
    "mean_absolute_error(prediction, data['SalePrice'])"
   ]
  },
  {
   "cell_type": "markdown",
   "metadata": {},
   "source": [
    "#### RMSE"
   ]
  },
  {
   "cell_type": "code",
   "execution_count": 11,
   "metadata": {},
   "outputs": [
    {
     "data": {
      "text/plain": [
       "77868.51337752416"
      ]
     },
     "execution_count": 11,
     "metadata": {},
     "output_type": "execute_result"
    }
   ],
   "source": [
    "mean_squared_error(prediction, data['SalePrice']) ** 0.5"
   ]
  },
  {
   "cell_type": "markdown",
   "metadata": {},
   "source": [
    "### 5. 请你选择多种特征进行组合，完成多元线性回归，并对比不同的特征组合，它们训练出的模型在十折交叉验证上MAE与RMSE的差别，至少完成3组"
   ]
  },
  {
   "cell_type": "markdown",
   "metadata": {},
   "source": [
    "###### 扩展：多项式回归（一元线性回归的扩展），尝试对部分特征进行变换，如将其二次幂，三次幂作为特征输入模型，观察模型在预测能力上的变化\n",
    "###### 提示：多元线性回归，只要在上方的features这个list中，加入其他特征的名字就可以"
   ]
  },
  {
   "cell_type": "markdown",
   "metadata": {},
   "source": [
    "# 模型一"
   ]
  },
  {
   "cell_type": "code",
   "execution_count": 13,
   "metadata": {},
   "outputs": [
    {
     "name": "stdout",
     "output_type": "stream",
     "text": [
      "prediction.shape: (1460,)\n",
      "mean_absolute_error： 40924.14881135184\n",
      "mean_squared_error： 60785.974862177216\n"
     ]
    }
   ],
   "source": [
    "# YOUR CODE HERE\n",
    "# 仿照Assignment1.iptnb文件，选取三个特征：LotArea, BsmtUnfSF, GarageArea\n",
    "\n",
    "# 创建模型\n",
    "model=LinearRegression()\n",
    "\n",
    "#选取数据\n",
    "features=['LotArea','BsmtUnfSF','GarageArea']\n",
    "x=data[features]\n",
    "y=data['SalePrice']\n",
    "\n",
    "#做十折交叉验证的预测\n",
    "prediction=cross_val_predict(model,x,y,cv=10)\n",
    "\n",
    "print(\"prediction.shape:\",prediction.shape)\n",
    "\n",
    "#计算评价指标\n",
    "#MAE\n",
    "MAE=mean_absolute_error(prediction,data['SalePrice'])\n",
    "#mean_absolute_error(prediction2,data['SalePrice'])\n",
    "print(\"mean_absolute_error：\",MAE)\n",
    "\n",
    "#RMSE\n",
    "#mean_squared_error(prediction2,data['SalePrice'])**0.5\n",
    "RMSE=mean_squared_error(prediction,data['SalePrice'])**0.5\n",
    "print(\"mean_squared_error：\",RMSE)\n"
   ]
  },
  {
   "cell_type": "markdown",
   "metadata": {},
   "source": [
    "# 模型二"
   ]
  },
  {
   "cell_type": "code",
   "execution_count": 14,
   "metadata": {},
   "outputs": [
    {
     "name": "stdout",
     "output_type": "stream",
     "text": [
      "prediction.shape: (1460,)\n",
      "mean_absolute_error： 40856.84011982893\n",
      "mean_squared_error： 60756.53810528323\n"
     ]
    },
    {
     "name": "stderr",
     "output_type": "stream",
     "text": [
      "D:\\Anaconda3\\lib\\site-packages\\ipykernel_launcher.py:11: SettingWithCopyWarning: \n",
      "A value is trying to be set on a copy of a slice from a DataFrame.\n",
      "Try using .loc[row_indexer,col_indexer] = value instead\n",
      "\n",
      "See the caveats in the documentation: http://pandas.pydata.org/pandas-docs/stable/indexing.html#indexing-view-versus-copy\n",
      "  # This is added back by InteractiveShellApp.init_path()\n"
     ]
    }
   ],
   "source": [
    "# 尝试将一个特征BsmtUnfSF求二次幂，然后放到模型中进行训练\n",
    "# 创建模型\n",
    "model=LinearRegression()\n",
    "\n",
    "#选取数据\n",
    "features=['LotArea','BsmtUnfSF','GarageArea']\n",
    "x=data[features]\n",
    "#print(x['LotArea'].head())\n",
    "\n",
    "# 尝试将'LotArea'这一列，求其二次幂\n",
    "x['BsmtUnfSF']=x[\"BsmtUnfSF\"].map(lambda x:x**2)\n",
    "#print(x['LotArea'].head())\n",
    "y=data['SalePrice']\n",
    "\n",
    "#做十折交叉验证的预测\n",
    "prediction=cross_val_predict(model,x,y,cv=10)\n",
    "\n",
    "print(\"prediction.shape:\",prediction.shape)\n",
    "\n",
    "#计算评价指标\n",
    "#MAE\n",
    "MAE=mean_absolute_error(prediction,data['SalePrice'])\n",
    "print(\"mean_absolute_error：\",MAE)\n",
    "\n",
    "#RMSE\n",
    "RMSE=mean_squared_error(prediction,data['SalePrice'])**0.5\n",
    "print(\"mean_squared_error：\",RMSE)"
   ]
  },
  {
   "cell_type": "markdown",
   "metadata": {},
   "source": [
    "# 模型三"
   ]
  },
  {
   "cell_type": "code",
   "execution_count": 16,
   "metadata": {},
   "outputs": [
    {
     "name": "stdout",
     "output_type": "stream",
     "text": [
      "prediction.shape: (1460,)\n",
      "mean_absolute_error： 41888.62258375124\n",
      "mean_squared_error： 61593.48035097124\n"
     ]
    },
    {
     "name": "stderr",
     "output_type": "stream",
     "text": [
      "D:\\Anaconda3\\lib\\site-packages\\ipykernel_launcher.py:10: SettingWithCopyWarning: \n",
      "A value is trying to be set on a copy of a slice from a DataFrame.\n",
      "Try using .loc[row_indexer,col_indexer] = value instead\n",
      "\n",
      "See the caveats in the documentation: http://pandas.pydata.org/pandas-docs/stable/indexing.html#indexing-view-versus-copy\n",
      "  # Remove the CWD from sys.path while we load stuff.\n"
     ]
    }
   ],
   "source": [
    "# 尝试将一个特征BsmtUnfSF求三次幂，然后放到模型中进行训练\n",
    "# 创建模型\n",
    "model=LinearRegression()\n",
    "\n",
    "#选取数据\n",
    "features=['LotArea','BsmtUnfSF','GarageArea']\n",
    "x=data[features]\n",
    "#print(x['LotArea'].head())\n",
    "# 尝试将'LotArea'这一列，求其二次幂\n",
    "x['LotArea']=x[\"LotArea\"].map(lambda x:x**3)\n",
    "#print(x['LotArea'].head())\n",
    "y=data['SalePrice']\n",
    "\n",
    "#做十折交叉验证的预测\n",
    "prediction=cross_val_predict(model,x,y,cv=10)\n",
    "\n",
    "print(\"prediction.shape:\",prediction.shape)\n",
    "\n",
    "#计算评价指标\n",
    "#MAE\n",
    "MAE=mean_absolute_error(prediction,data['SalePrice'])\n",
    "print(\"mean_absolute_error：\",MAE)\n",
    "\n",
    "#RMSE\n",
    "RMSE=mean_squared_error(prediction,data['SalePrice'])**0.5\n",
    "print(\"mean_squared_error：\",RMSE)"
   ]
  },
  {
   "cell_type": "code",
   "execution_count": null,
   "metadata": {},
   "outputs": [],
   "source": []
  },
  {
   "cell_type": "markdown",
   "metadata": {},
   "source": [
    "###### 双击此处填写\n",
    "1. 模型1使用的特征：\n",
    "2. 模型2使用的特征：\n",
    "3. 模型3使用的特征:\n",
    "\n",
    "模型|MAE|RMSE\n",
    "-|-|-\n",
    "模型1 | 40924.14881135184 | 60785.974862177216\n",
    "模型2 | 40856.84011982893 | 60756.53810528323\n",
    "模型3 | 41888.62258375124 | 61593.48035097124\n",
    "\n",
    "发现：二次幂时，误差变化不大，甚至有所减少；三次幂时，误差增大"
   ]
  },
  {
   "cell_type": "code",
   "execution_count": null,
   "metadata": {},
   "outputs": [],
   "source": []
  }
 ],
 "metadata": {
  "kernelspec": {
   "display_name": "Python 3",
   "language": "python",
   "name": "python3"
  },
  "language_info": {
   "codemirror_mode": {
    "name": "ipython",
    "version": 3
   },
   "file_extension": ".py",
   "mimetype": "text/x-python",
   "name": "python",
   "nbconvert_exporter": "python",
   "pygments_lexer": "ipython3",
   "version": "3.6.5"
  },
  "latex_envs": {
   "LaTeX_envs_menu_present": true,
   "autoclose": false,
   "autocomplete": true,
   "bibliofile": "biblio.bib",
   "cite_by": "apalike",
   "current_citInitial": 1,
   "eqLabelWithNumbers": true,
   "eqNumInitial": 1,
   "hotkeys": {
    "equation": "Ctrl-E",
    "itemize": "Ctrl-I"
   },
   "labels_anchors": false,
   "latex_user_defs": false,
   "report_style_numbering": false,
   "user_envs_cfg": false
  },
  "toc": {
   "base_numbering": 1,
   "nav_menu": {},
   "number_sections": true,
   "sideBar": true,
   "skip_h1_title": false,
   "title_cell": "Table of Contents",
   "title_sidebar": "Contents",
   "toc_cell": false,
   "toc_position": {},
   "toc_section_display": true,
   "toc_window_display": false
  }
 },
 "nbformat": 4,
 "nbformat_minor": 2
}
